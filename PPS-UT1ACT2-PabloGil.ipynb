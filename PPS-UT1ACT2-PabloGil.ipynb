{
 "cells": [
  {
   "cell_type": "markdown",
   "id": "9a3693a7-4d0f-486f-82be-d26f43d0bcb5",
   "metadata": {},
   "source": [
    "# Documentación del código\n",
    "\n",
    "Este código define varias funciones que realizan operaciones matemáticas y verificaciones de valores numéricos. A continuación, se explica el propósito y funcionamiento de cada una de ellas.\n",
    "\n",
    "## 1. `suma(a, b)`\n",
    "La función `suma(a, b)` recibe dos números como entrada y devuelve su suma.\n",
    "\n",
    "### ¿Qué hace?\n",
    "Suma los números `a` y `b` y devuelve el resultado.\n",
    "\n",
    "### Ejemplo:\n",
    "```python\n",
    "suma(2, 3)  # Resultado: 5\n",
    "\n"
   ]
  },
  {
   "cell_type": "code",
   "execution_count": null,
   "id": "b78405f0-65f2-4526-aa29-b4ea8ed2dfef",
   "metadata": {},
   "outputs": [],
   "source": [
    "def suma(a, b):\n",
    "    \"\"\"Suma de dos números.\"\"\"\n",
    "    return a + b"
   ]
  },
  {
   "cell_type": "markdown",
   "id": "53200cae-10aa-4f57-a36a-e64f80a2ce23",
   "metadata": {},
   "source": [
    "## 2. `resta(a, b)`\n",
    "La función `resta(a, b)` recibe dos números y devuelve el resultado de restar `b` de `a`.\n",
    "\n",
    "### ¿Qué hace?\n",
    "Resta el número `b` al número `a` y devuelve el resultado.\n",
    "\n",
    "### Ejemplo:\n",
    "```python\n",
    "resta(5, 3)  # Resultado: 2\n"
   ]
  },
  {
   "cell_type": "code",
   "execution_count": null,
   "id": "6ede7c78-4d76-48f0-81df-a43155dc2c95",
   "metadata": {},
   "outputs": [],
   "source": [
    "def resta(a, b):\n",
    "    \"\"\"Resta de dos números.\"\"\"\n",
    "    return a - b\n"
   ]
  },
  {
   "cell_type": "markdown",
   "id": "55a9434e-b7ff-47b9-91e1-99992f33af30",
   "metadata": {},
   "source": [
    "## 3. `multiplicacion(a, b)`\n",
    "La función `multiplicacion(a, b)` recibe dos números y devuelve el resultado de multiplicarlos.\n",
    "\n",
    "### ¿Qué hace?\n",
    "Multiplica los números `a` y `b` y devuelve el producto.\n",
    "\n",
    "### Ejemplo:\n",
    "```python\n",
    "multiplicacion(4, 3)  # Resultado: 12\n",
    "\n"
   ]
  },
  {
   "cell_type": "code",
   "execution_count": null,
   "id": "64df7408-0bcc-4da3-a8f4-c2933749e3aa",
   "metadata": {},
   "outputs": [],
   "source": [
    "def multiplicacion(a, b):\n",
    "    \"\"\"Multiplicación de dos números.\"\"\"\n",
    "    return a * b\n"
   ]
  },
  {
   "cell_type": "markdown",
   "id": "f3d87636-b78b-4077-81cd-48052994248a",
   "metadata": {},
   "source": [
    "## 4. `division(a, b)`\n",
    "La función `division(a, b)` recibe dos números y devuelve el resultado de dividir `a` entre `b`. Si `b` es igual a cero, la función devuelve un mensaje de error.\n",
    "\n",
    "### ¿Qué hace?\n",
    "Realiza la división de `a` entre `b`, pero primero verifica si `b` es igual a cero. Si es así, devuelve un mensaje de error; si no, realiza la división y devuelve el resultado.\n",
    "\n",
    "### Ejemplo:\n",
    "```python\n",
    "division(6, 2)  # Resultado: 3.0\n",
    "division(6, 0)  # Resultado: \"Error: No se puede dividir entre cero.\"\n"
   ]
  },
  {
   "cell_type": "code",
   "execution_count": null,
   "id": "280cf6ca-5171-4618-98a3-a79c8f1e1f76",
   "metadata": {},
   "outputs": [],
   "source": [
    "def division(a, b):\n",
    "    \"\"\"División de dos números, con control de división por cero.\"\"\"\n",
    "    if b == 0:\n",
    "        return \"Error: No se puede dividir entre cero.\"\n",
    "    return a / b\n"
   ]
  },
  {
   "cell_type": "markdown",
   "id": "e599f870-9990-48a4-b497-c2ab782cf90d",
   "metadata": {},
   "source": [
    "## 5. `isnumber(a)`\n",
    "La función `isnumber(a)` verifica si el valor de `a` es un número. Intenta convertir el valor a tipo `float` y, si tiene éxito, devuelve `True`; de lo contrario, devuelve `False`.\n",
    "\n",
    "### ¿Qué hace?\n",
    "Verifica si el valor pasado como argumento es un número (entero o decimal).\n",
    "\n",
    "### Ejemplo:\n",
    "```python\n",
    "isnumber(10)    # Resultado: True\n",
    "isnumber(\"hola\") # Resultado: False\n"
   ]
  },
  {
   "cell_type": "code",
   "execution_count": null,
   "id": "50dc709d-a56b-41c8-aabf-8683a2b5f69c",
   "metadata": {},
   "outputs": [],
   "source": [
    "def isnumber(a):\n",
    "    try: \n",
    "        float(a) \n",
    "        return True \n",
    "    except ValueError: \n",
    "        return False\n"
   ]
  },
  {
   "cell_type": "markdown",
   "id": "fdb98190-e928-4ea9-8a73-3009f4f2412f",
   "metadata": {},
   "source": [
    "## 6. `mayorCero(a)`\n",
    "La función `mayorCero(a)` recibe un número `a` y devuelve `True` si el número es mayor que cero, o `False` si no lo es.\n",
    "\n",
    "### ¿Qué hace?\n",
    "Verifica si el número pasado como argumento es mayor que cero.\n",
    "\n",
    "### Ejemplo:\n",
    "```python\n",
    "mayorCero(5)   # Resultado: True\n",
    "mayorCero(-3)  # Resultado: False\n"
   ]
  },
  {
   "cell_type": "code",
   "execution_count": null,
   "id": "e4f8955a-642a-469e-ac12-93817b017288",
   "metadata": {},
   "outputs": [],
   "source": [
    "def mayorCero(a):\n",
    "    \"\"\"Indica si el número pasado es mayor que cero.\"\"\"\n",
    "    return a > 0\n"
   ]
  },
  {
   "cell_type": "markdown",
   "id": "ff8cd782-3637-4846-a043-e203ad508043",
   "metadata": {},
   "source": [
    "# Documentación de la función `calculadora()`\n",
    "\n",
    "Este código define una función llamada `calculadora()` que permite al usuario seleccionar una operación matemática y luego ingresar dos números para realizar dicha operación.\n",
    "\n",
    "## 1. Mostrar opciones de operaciones\n",
    "\n",
    "```python\n",
    "print(\"Seleccione una operación:\")\n",
    "print(\"1. Suma\")\n",
    "print(\"2. Resta\")\n",
    "print(\"3. Multiplicación\")\n",
    "print(\"4. División\")\n"
   ]
  },
  {
   "cell_type": "code",
   "execution_count": null,
   "id": "5b364256-8a76-4f7a-8e1d-85fa2c6ded02",
   "metadata": {},
   "outputs": [],
   "source": [
    "operacion = input(\"Ingrese el número de la operación (1/2/3/4): \")"
   ]
  },
  {
   "cell_type": "markdown",
   "id": "dbc15569-b54f-45b6-bc9e-8a6fb830748f",
   "metadata": {},
   "source": [
    "## ¿Qué hace?\n",
    "\n",
    "En esta parte del código, el programa solicita al usuario que ingrese un número para seleccionar la operación matemática que desea realizar. Las opciones disponibles son:\n",
    "\n",
    "- **1** para **Suma**\n",
    "- **2** para **Resta**\n",
    "- **3** para **Multiplicación**\n",
    "- **4** para **División**\n",
    "\n",
    "El número ingresado por el usuario se almacena en la variable `operacion`.\n",
    "\n",
    "## Explicación:\n",
    "\n",
    "El uso de la función `input()` permite que el programa muestre un mensaje en la consola pidiendo al usuario que ingrese un valor. El mensaje que se muestra es: `\"Ingrese el número de la operación (1/2/3/4): \"`.\n",
    "\n",
    "Cuando el usuario ingresa un número (como `1`, `2`, `3` o `4`), este se captura como una cadena de texto (tipo `str`). Aunque el número es un dígito, **se guarda como texto**. Este valor es luego utilizado para determinar cuál de las operaciones se va a realizar.\n"
   ]
  },
  {
   "cell_type": "code",
   "execution_count": null,
   "id": "9fae1d5c-0521-4607-81b4-6b9810cabbca",
   "metadata": {},
   "outputs": [],
   "source": [
    "if operacion in ['1', '2', '3', '4']:\n",
    "        num1 = float(input(\"Ingrese el primer número: \"))\n",
    "        num2 = float(input(\"Ingrese el segundo número: \"))"
   ]
  },
  {
   "cell_type": "markdown",
   "id": "cd71e6e0-5616-4596-a3ce-a241de17fa60",
   "metadata": {},
   "source": [
    "## ¿Qué hace?\n",
    "\n",
    "Esta parte del código verifica si el número ingresado por el usuario para la operación es válido (es decir, si está en el rango de las opciones disponibles: `'1'`, `'2'`, `'3'` o `'4'`). Si la opción seleccionada es válida, entonces el programa solicita al usuario que ingrese dos números, los cuales se almacenan en las variables `num1` y `num2`.\n",
    "\n",
    "## Explicación paso a paso:\n",
    "\n",
    "### 1. Condición `if`:\n",
    "\n",
    "- La condición `if operacion in ['1', '2', '3', '4']` verifica si el valor de la variable `operacion` (la opción elegida por el usuario) está dentro de la lista `['1', '2', '3', '4']`. Es decir, la condición se cumple si el usuario seleccionó una operación válida.\n",
    "- Si el valor de `operacion` es uno de esos valores, se ejecutan las siguientes líneas de código. Si no es válido, el programa muestra un mensaje de error en otra parte del código.\n",
    "\n",
    "### 2. Solicitud de números:\n",
    "\n",
    "- Después de comprobar que la operación es válida, el programa solicita dos números al usuario para poder realizar la operación seleccionada.\n",
    "- Se utiliza la función `input()` para pedir al usuario que ingrese los números. El mensaje que se muestra es: `\"Ingrese el primer número: \"` para el primer número y `\"Ingrese el segundo número: \"` para el segundo número.\n",
    "- El valor ingresado por el usuario se captura como texto, pero se convierte a un número decimal utilizando `float()`, ya que las operaciones matemáticas suelen implicar números con decimales. Esto permite que los valores puedan ser utilizados en operaciones como suma, resta, multiplicación o división.\n",
    "\n",
    "### 3. Almacenamiento en variables:\n",
    "\n",
    "- Los números ingresados por el usuario se almacenan en las variables `num1` y `num2` para usarlos más adelante en los cálculos.\n"
   ]
  },
  {
   "cell_type": "code",
   "execution_count": null,
   "id": "d3d83700-9917-47e1-ac10-984ec1c1e00e",
   "metadata": {},
   "outputs": [],
   "source": [
    "if operacion == '1':\n",
    "            print(\"Resultado:\", suma(num1, num2))\n",
    "        elif operacion == '2':\n",
    "            print(\"Resultado:\", resta(num1, num2))\n",
    "        elif operacion == '3':\n",
    "            print(\"Resultado:\", multiplicacion(num1, num2))\n",
    "        elif operacion == '4':\n",
    "            print(\"Resultado:\", division(num1, num2))\n",
    "    else:\n",
    "        print(\"Operación no válida\")"
   ]
  },
  {
   "cell_type": "markdown",
   "id": "49b78b10-2be2-403d-8ee9-59b8b486acb1",
   "metadata": {},
   "source": [
    "## ¿Qué hace?\n",
    "\n",
    "Esta sección del código ejecuta la operación matemática seleccionada por el usuario y muestra el resultado. Dependiendo del valor de la variable `operacion`, se llama a la función correspondiente para realizar la operación (suma, resta, multiplicación o división). Si la operación no es válida, muestra un mensaje de error.\n",
    "\n",
    "## Explicación paso a paso:\n",
    "\n",
    "### 1. Condición `if` para la Suma (`operacion == '1'`):\n",
    "- Si el usuario seleccionó la opción **1** (suma), la variable `operacion` será igual a `'1'`. El programa entonces llama a la función `suma(num1, num2)` para realizar la suma de los dos números ingresados.\n",
    "- El resultado de la operación se imprime en la consola con el mensaje `\"Resultado:\"`.\n",
    "\n",
    "### 2. Condición `elif` para la Resta (`operacion == '2'`):\n",
    "- Si el usuario seleccionó la opción **2** (resta), la variable `operacion` será igual a `'2'`. El programa llama a la función `resta(num1, num2)` para realizar la resta de los dos números.\n",
    "- El resultado de la resta se imprime en la consola de manera similar al caso anterior.\n",
    "\n",
    "### 3. Condición `elif` para la Multiplicación (`operacion == '3'`):\n",
    "- Si el usuario seleccionó la opción **3** (multiplicación), la variable `operacion` será igual a `'3'`. El programa llama a la función `multiplicacion(num1, num2)` para realizar la multiplicación de los dos números.\n",
    "- El resultado de la multiplicación se imprime en la consola.\n",
    "\n",
    "### 4. Condición `elif` para la División (`operacion == '4'`):\n",
    "- Si el usuario seleccionó la opción **4** (división), la variable `operacion` será igual a `'4'`. El programa llama a la función `division(num1, num2)` para realizar la división de los dos números.\n",
    "- El resultado de la división se imprime en la consola.\n",
    "\n",
    "### 5. Condición `else` para operaciones no válidas:\n",
    "- Si la variable `operacion` no es igual a `'1'`, `'2'`, `'3'` ni `'4'` (es decir, si el usuario ingresó un valor no válido para la operación), se ejecuta la cláusula `else`.\n",
    "- En este caso, el programa imprime el mensaje `\"Operación no válida\"` para informar al usuario que la opción ingresada no es reconocida.\n"
   ]
  },
  {
   "cell_type": "code",
   "execution_count": null,
   "id": "d215c6bf-0ecb-45dc-9e81-b3def4f0b1e4",
   "metadata": {},
   "outputs": [],
   "source": [
    "def calculadora():\n",
    "    print(\"Seleccione una operación:\")\n",
    "    print(\"1. Suma\")\n",
    "    print(\"2. Resta\")\n",
    "    print(\"3. Multiplicación\")\n",
    "    print(\"4. División\")\n",
    "\n",
    "    operacion = input(\"Ingrese el número de la operación (1/2/3/4): \")\n",
    "\n",
    "    if operacion in ['1', '2', '3', '4']:\n",
    "        num1 = float(input(\"Ingrese el primer número: \"))\n",
    "        num2 = float(input(\"Ingrese el segundo número: \"))\n",
    "\n",
    "        if operacion == '1':\n",
    "            print(\"Resultado:\", suma(num1, num2))\n",
    "        elif operacion == '2':\n",
    "            print(\"Resultado:\", resta(num1, num2))\n",
    "        elif operacion == '3':\n",
    "            print(\"Resultado:\", multiplicacion(num1, num2))\n",
    "        elif operacion == '4':\n",
    "            print(\"Resultado:\", division(num1, num2))\n",
    "    else:\n",
    "        print(\"Operación no válida\")\n",
    "\n",
    "if __name__ == \"__main__\":\n",
    "    calculadora()"
   ]
  }
 ],
 "metadata": {
  "kernelspec": {
   "display_name": "Python 3 (ipykernel)",
   "language": "python",
   "name": "python3"
  },
  "language_info": {
   "codemirror_mode": {
    "name": "ipython",
    "version": 3
   },
   "file_extension": ".py",
   "mimetype": "text/x-python",
   "name": "python",
   "nbconvert_exporter": "python",
   "pygments_lexer": "ipython3",
   "version": "3.12.8"
  }
 },
 "nbformat": 4,
 "nbformat_minor": 5
}
